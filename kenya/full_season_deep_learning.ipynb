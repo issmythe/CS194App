{
  "nbformat": 4,
  "nbformat_minor": 0,
  "metadata": {
    "colab": {
      "provenance": [],
      "authorship_tag": "ABX9TyPUgtZs6yTbputXJSO0vI16",
      "include_colab_link": true
    },
    "kernelspec": {
      "name": "python3",
      "display_name": "Python 3"
    },
    "language_info": {
      "name": "python"
    }
  },
  "cells": [
    {
      "cell_type": "markdown",
      "metadata": {
        "id": "view-in-github",
        "colab_type": "text"
      },
      "source": [
        "<a href=\"https://colab.research.google.com/github/issmythe/CS194App/blob/master/kenya/full_season_deep_learning.ipynb\" target=\"_parent\"><img src=\"https://colab.research.google.com/assets/colab-badge.svg\" alt=\"Open In Colab\"/></a>"
      ]
    },
    {
      "cell_type": "code",
      "source": [
        "# Colab setup\n",
        "from google.colab import auth, drive\n",
        "from datetime import datetime\n",
        "\n",
        "auth.authenticate_user()\n",
        "drive.mount('/content/drive')\n",
        "\n",
        "FIG_PATH = 'content/drive/MyDrive/figs/in_season/%s/' % datetime.today().strftime('%Y%m')\n",
        "CODE_PATH = 'drive/MyDrive/Kenya/code/src/'"
      ],
      "metadata": {
        "colab": {
          "base_uri": "https://localhost:8080/"
        },
        "id": "diYu5Sv5dZym",
        "outputId": "de8f4ea8-28fd-4e2f-ecfe-cbf847a7b874"
      },
      "execution_count": 3,
      "outputs": [
        {
          "output_type": "stream",
          "name": "stdout",
          "text": [
            "Drive already mounted at /content/drive; to attempt to forcibly remount, call drive.mount(\"/content/drive\", force_remount=True).\n"
          ]
        }
      ]
    },
    {
      "cell_type": "code",
      "source": [
        "# GCS setup\n",
        "from datetime import datetime\n",
        "FIG_PATH = '/home/jupyter/figs/%s/' % datetime.today().strftime('%Y%m')\n",
        "CODE_PATH = 'nsf-p2/kenya/utils/'\n"
      ],
      "metadata": {
        "id": "qNFnWwHzeKHX"
      },
      "execution_count": null,
      "outputs": []
    },
    {
      "cell_type": "markdown",
      "source": [
        "# Setup"
      ],
      "metadata": {
        "id": "0y_iW6l0Wd2a"
      }
    },
    {
      "cell_type": "code",
      "source": [
        "# Installs\n",
        "!pip install fsspec gcsfs geopandas kaleido plotly torch &> /dev/null\n"
      ],
      "metadata": {
        "id": "oxx_RVopWdEC"
      },
      "execution_count": 4,
      "outputs": []
    },
    {
      "cell_type": "code",
      "execution_count": 5,
      "metadata": {
        "cellView": "form",
        "id": "LrpSVfO7WbzH"
      },
      "outputs": [],
      "source": [
        "#@title Imports\n",
        "import itertools\n",
        "import os\n",
        "import sys\n",
        "import time\n",
        "\n",
        "import geopandas as gpd\n",
        "import numpy as np\n",
        "import pandas as pd\n",
        "\n",
        "from datetime import datetime, timedelta\n",
        "from functools import reduce\n",
        "\n",
        "# Plotting\n",
        "import plotly\n",
        "import seaborn as sns\n",
        "import matplotlib.pyplot as plt\n",
        "import plotly.graph_objects as go\n",
        "import plotly.express as px\n",
        "\n",
        "# Analysis\n",
        "from scipy.stats import pearsonr\n",
        "from scipy.stats.mstats import winsorize\n",
        "\n",
        "import sklearn\n",
        "from sklearn import linear_model\n",
        "from sklearn.decomposition import PCA\n",
        "from sklearn.ensemble import RandomForestRegressor\n",
        "from sklearn.preprocessing import StandardScaler\n",
        "\n",
        "from sklearn.experimental import enable_halving_search_cv\n",
        "from sklearn.model_selection import cross_val_predict, HalvingGridSearchCV\n",
        "\n",
        "from sklearn.exceptions import ConvergenceWarning\n",
        "from sklearn.utils._testing import ignore_warnings\n",
        "\n",
        "# Helpers\n",
        "sys.path.append(CODE_PATH)\n",
        "sys.path.append('content/' + CODE_PATH)\n",
        "\n",
        "from harmonics import get_id_tuple\n",
        "from utils import *\n",
        "\n",
        "# Tensorflow\n",
        "import torch\n",
        "import torch.nn as nn\n",
        "import torch.nn.functional as F\n",
        "import torch.optim as optim\n",
        "from torch.utils.data import TensorDataset, DataLoader\n",
        "from torch.utils.tensorboard import SummaryWriter\n"
      ]
    },
    {
      "cell_type": "code",
      "source": [
        "#@title Constants and misc setup\n",
        "sns.set()\n",
        "path = os.getcwd()\n",
        "os.chdir('../..')\n",
        "\n",
        "GT_PATH = 'gs://nsf-phase2/yield/ground_data/Kenya/1AF_cropcuts_%d.csv'\n",
        "\n",
        "DATA_PATH = 'content/drive/MyDrive/Kenya/data/'\n",
        "! mkdir $FIG_PATH\n",
        "\n",
        "pd.options.mode.chained_assignment = None\n",
        "\n",
        "N_PERIODS = 14\n"
      ],
      "metadata": {
        "colab": {
          "base_uri": "https://localhost:8080/"
        },
        "cellView": "form",
        "id": "cKcyQ0KMWh3s",
        "outputId": "3fbe972d-60af-4f6b-8d1a-266843490ca0"
      },
      "execution_count": 6,
      "outputs": [
        {
          "output_type": "stream",
          "name": "stdout",
          "text": [
            "mkdir: cannot create directory ‘content/drive/MyDrive/figs/in_season/202209/’: File exists\n"
          ]
        }
      ]
    },
    {
      "cell_type": "code",
      "source": [],
      "metadata": {
        "id": "dli1ZNZyWqtB"
      },
      "execution_count": 6,
      "outputs": []
    },
    {
      "cell_type": "markdown",
      "source": [
        "# Data"
      ],
      "metadata": {
        "id": "WH7dl11PWpL1"
      }
    },
    {
      "cell_type": "code",
      "source": [
        "#@title Get constants and prediction df\n",
        "START_MONTH = 3\n",
        "SAMPLE_PERIODS = [(x - 2) * 2 for x in [5, 6, 7, 8, 10]]\n",
        "YEARS = range(2016, 2020)\n",
        "\n",
        "pred_df = pd.read_csv('gs://nsf-phase2/kenya/formatted_predictors_df.csv')"
      ],
      "metadata": {
        "cellView": "form",
        "id": "J9iExDQCWjpI"
      },
      "execution_count": 7,
      "outputs": []
    },
    {
      "cell_type": "code",
      "source": [
        "#@title Get yield df\n",
        "def get_id(row):\n",
        "    data = [int(row['year']), round(row['latitude'], 6), round(row['longitude'], 6)]\n",
        "    return '_'.join([str(x) for x in data])\n",
        "\n",
        "ground_data_all = read_ground_data()\n",
        "ground_data_all['id'] = ground_data_all.apply(get_id, axis=1)\n",
        "yields = ground_data_all.drop_duplicates(subset='id', keep=False)\n",
        "yields = yields[(yields['yield'] >= yields['yield'].quantile(0.01)) &\n",
        "                (yields['yield'] <= yields['yield'].quantile(0.99))]\n",
        "\n"
      ],
      "metadata": {
        "cellView": "form",
        "id": "Upo4qYMAWjnO"
      },
      "execution_count": 8,
      "outputs": []
    },
    {
      "cell_type": "code",
      "source": [],
      "metadata": {
        "id": "YUhM7h5gWjkg"
      },
      "execution_count": 8,
      "outputs": []
    },
    {
      "cell_type": "markdown",
      "source": [
        "# Metaparameters exploratory"
      ],
      "metadata": {
        "id": "bvxz7QbgcER2"
      }
    },
    {
      "cell_type": "code",
      "source": [
        "dirs = ['gs://nsf-phase2/kenya/metaparams_test2016.csv',\n",
        "        'gs://nsf-phase2/kenya/metaparams_test2017.csv',\n",
        "        'gs://nsf-phase2/kenya/metaparams_v0.csv',\n",
        "        'gs://nsf-phase2/kenya/metaparams_test2018_100.csv',\n",
        "        'gs://nsf-phase2/kenya/metaparams_test2019.csv']\n",
        "\n",
        "years = [2016, 2017, 2018, 2018, 2019]\n",
        "early_stopping = [True, True, True, False, True]\n",
        "\n",
        "mp = pd.concat([pd.read_csv(dirs[i]).assign(year=years[i], early_stopping=early_stopping[i]) \n",
        "                for i in range(len(dirs))])\n"
      ],
      "metadata": {
        "id": "g8maqfqlg8bQ"
      },
      "execution_count": 9,
      "outputs": []
    },
    {
      "cell_type": "code",
      "source": [
        "\"\"\"\n",
        "batch_size: 32 same/worse\n",
        "conv_layers: 2 same/worse, might need more epochs\n",
        "dense_neurons: 32 a little better, 8 a little worse\n",
        "dropout: 0.5 is bad\n",
        "initial_filters: 16 a little better, 4 a little worse\n",
        "lr: 1e-5 is too low - check if 1e-3 looks stable, if so just go with it?\n",
        "stride: seems worse though maybe better w diff kernel?\n",
        "weight decay: can leave out\n",
        "\"\"\"\n",
        "print()"
      ],
      "metadata": {
        "colab": {
          "base_uri": "https://localhost:8080/"
        },
        "id": "cV9jVeVZjA_W",
        "outputId": "9c3f719c-6fe7-4f7f-b5f3-1b6cbea07a39"
      },
      "execution_count": 25,
      "outputs": [
        {
          "output_type": "stream",
          "name": "stdout",
          "text": [
            "\n"
          ]
        }
      ]
    },
    {
      "cell_type": "code",
      "source": [
        "i = 10\n",
        "p = mp['param'].unique()[i]\n",
        "mp = mp.sort_values('corr')\n",
        "\n",
        "# mp.drop_duplicates(subset=['year', 'param'], keep='last').sort_values('param')\n",
        "baseline = mp.loc[mp['value'] == \"['gcvi', 'dday29C', 'rain']\"]\n",
        "baseline = baseline[['year', 'early_stopping', 'corr']].rename({'corr': 'bl_corr'}, axis=1)\n",
        "mp = mp.merge(baseline)\n",
        "mp['corr_delta'] = mp['corr'] - mp['bl_corr']\n",
        "mp = mp.sort_values(['param', 'value', 'year'])\n",
        "x = mp[mp['param'] == p]\n",
        "# x['value'].iloc[6]\n"
      ],
      "metadata": {
        "id": "xkbrazzncWOk"
      },
      "execution_count": 48,
      "outputs": []
    },
    {
      "cell_type": "code",
      "source": [
        "df1 = mp.loc[(mp['year'] == 2018) & (mp['early_stopping'] == True), ['param', 'value', 'epochs', 'corr']]\\\n",
        "    .rename({'corr': 'corr_stop', 'epochs': 'epochs_stop'}, axis=1)\n",
        "df2 = mp.loc[(mp['year'] == 2018) & (mp['early_stopping'] == False), ['param', 'value', 'epochs', 'corr']]\n",
        "df = df1.merge(df2)\n",
        "df['delta'] = (df['corr'] - df['corr_stop']) / df['corr'] * 100\n",
        "df['delta'].min(), df['delta'].mean(), df['delta'].median(), df['delta'].max()"
      ],
      "metadata": {
        "id": "IQL2fxCFcWLr"
      },
      "execution_count": null,
      "outputs": []
    },
    {
      "cell_type": "code",
      "source": [
        "df"
      ],
      "metadata": {
        "id": "7PYFQPp8cV7p"
      },
      "execution_count": null,
      "outputs": []
    },
    {
      "cell_type": "code",
      "source": [],
      "metadata": {
        "id": "q2RA1J04ho0Q"
      },
      "execution_count": null,
      "outputs": []
    },
    {
      "cell_type": "code",
      "source": [],
      "metadata": {
        "id": "3rZpYum_hoxC"
      },
      "execution_count": null,
      "outputs": []
    },
    {
      "cell_type": "code",
      "source": [],
      "metadata": {
        "id": "tRmRJARzhool"
      },
      "execution_count": null,
      "outputs": []
    },
    {
      "cell_type": "markdown",
      "source": [
        "# Fit NN"
      ],
      "metadata": {
        "id": "LpxewFcuWvpY"
      }
    },
    {
      "cell_type": "code",
      "source": [
        "device = torch.device(\"cuda:0\" if torch.cuda.is_available() else \"cpu\")\n",
        "criterion = nn.MSELoss()\n",
        "N_EPOCHS = 100\n",
        "\n",
        "vars_0 = ['gcvi', 'dday29C', 'rain']\n",
        "vars_1 = vars_0 + ['nbr1', 'nir', 'ndti', 't_min']\n",
        "vars_full = vars_1 + ['blue', 'green', 'ndvi', 'rded4', 'red', 'sndvi',\n",
        "                      'swir1', 'swir2', 'dday10C', 't_max']\n"
      ],
      "metadata": {
        "id": "nP1Ra8A3l9iN"
      },
      "execution_count": 49,
      "outputs": []
    },
    {
      "cell_type": "code",
      "source": [
        "#@title Train/test helpers\n",
        "\n",
        "def train(model, device, train_loader, optimizer, criterion):\n",
        "    running_loss = 0.0\n",
        "\n",
        "    model.train()\n",
        "    for batch_idx, data in enumerate(train_loader):\n",
        "        x, x_flat, target = data[:-2], data[-2], data[-1]\n",
        "        inputs = [torch.Tensor(ts).to(device) for ts in x] + [torch.Tensor(x_flat).to(device)]\n",
        "        labels = target.to(device)\n",
        "        optimizer.zero_grad()\n",
        "        outputs = model(inputs)\n",
        "\n",
        "        loss = criterion(outputs, labels)\n",
        "        loss.backward()\n",
        "        optimizer.step()\n",
        "\n",
        "        running_loss += loss.item()\n",
        "\n",
        "    return (running_loss / batch_idx) ** 0.5\n",
        "\n",
        "\n",
        "def test(model, device, test_x, test_y, criterion, predict=False):\n",
        "    model.eval()\n",
        "    with torch.no_grad():\n",
        "        x, x_flat = test_x\n",
        "        data = [torch.Tensor(ts).to(device) for ts in x] + [torch.Tensor(x_flat).to(device)]\n",
        "        target = torch.Tensor(test_y).to(device)\n",
        "        outputs = model(data)\n",
        "        detached = outputs.detach().cpu().numpy().flatten() if device.type == 'cuda' \\\n",
        "            else outputs.detach().numpy().flatten()\n",
        "        if predict:\n",
        "            return detached\n",
        "\n",
        "        mse = criterion(outputs, target).item()\n",
        "        corr = pearsonr(detached, test_y.flatten())[0]\n",
        "\n",
        "    return mse ** 0.5, corr\n",
        "\n",
        "\n",
        "\n"
      ],
      "metadata": {
        "cellView": "form",
        "id": "tvlTOOwZWjbF"
      },
      "execution_count": 50,
      "outputs": []
    },
    {
      "cell_type": "code",
      "source": [
        "#@title Cross-validation loop helpers\n",
        "\n",
        "def split_train_test(test_year):\n",
        "    np.random.seed(123)\n",
        "    train_pd = pred_df[pred_df['year'] != test_year]\n",
        "    val_pd = train_pd.sample(frac=0.2)\n",
        "    train_pd = train_pd[~train_pd['id'].isin(val_pd['id'])].sample(frac=1)\n",
        "    test_pd = pred_df[pred_df['year'] == test_year]\n",
        "    return train_pd, val_pd, test_pd\n",
        "\n",
        "def get_model_data(df, ts_cols, ss, train, batch_size=32):\n",
        "\n",
        "    def get_ts_cols(var, start=0, end=14):\n",
        "        return [f'{var}_{i}' for i in range(start, end)]\n",
        "\n",
        "    ts_arrays = []\n",
        "    for c in ts_cols:\n",
        "        arr = np.array(df[get_ts_cols(c)])\n",
        "        n, t = arr.shape\n",
        "        ts_arrays.append(arr.reshape(n, 1, t))\n",
        "\n",
        "    x_flat = np.array(df[['eatlas_mean']])\n",
        "    y = np.array(df['yield']).reshape(len(df), 1)\n",
        "    y = ss.fit_transform(y) if train else ss.transform(y)\n",
        "\n",
        "    tensors = [torch.Tensor(ts).type(torch.float32) for ts in ts_arrays] + \\\n",
        "        [torch.Tensor(x_flat).type(torch.float32), torch.Tensor(y).type(torch.float32)]\n",
        "\n",
        "    ds = TensorDataset(*tensors)\n",
        "    loader = DataLoader(ds, batch_size=batch_size)\n",
        "    return (ts_arrays, x_flat), y, ds, loader\n",
        "\n",
        "def get_model(params, device):\n",
        "    model_kw = {k: params[k] for k in ['conv_layers', 'initial_filters', 'dense_neurons',\n",
        "                                       'dropout', 'kernel_sz', 'stride']}\n",
        "    model_kw['n_ts'] = len(params['ts_cols'])\n",
        "\n",
        "    model = Net(**model_kw)\n",
        "    model.to(device)\n",
        "    optimizer = params['optimizer'](\n",
        "        model.parameters(), lr=params['lr'], weight_decay=params['weight_decay'])\n",
        "    optimizer.zero_grad()\n",
        "\n",
        "    return model, optimizer\n",
        "\n",
        "def do_train_loop(model, device, optimizer, criterion, max_epochs,\n",
        "                  train_loader, val_x, val_y, tol=3, verbose=10):\n",
        "    rmse, corr = [], []\n",
        "    val_rmse, val_corr = test(model, device, val_x, val_y, criterion)\n",
        "    if verbose > 0:\n",
        "        print(f'{0} / {N_EPOCHS} complete.', f'Test: {round(val_rmse, 3)} {round(val_corr, 3)}')\n",
        "    rmse.append(val_rmse)\n",
        "    corr.append(val_corr)\n",
        "    min_rmse, n_inc = val_rmse, 0\n",
        "\n",
        "    for epoch in range(max_epochs):\n",
        "        train_rmse = train(model, device, train_loader, optimizer, criterion)\n",
        "        val_rmse, val_corr = test(model, device, val_x, val_y, criterion)\n",
        "        rmse.append(val_rmse)\n",
        "        corr.append(val_corr)\n",
        "        \n",
        "        n_inc = n_inc + 1 if val_rmse > min_rmse else 0\n",
        "        min_rmse = min(min_rmse, val_rmse)\n",
        "\n",
        "        if verbose > 0 and (epoch + 1) % verbose == 0:\n",
        "            print(f'{epoch + 1} / {N_EPOCHS} complete. Train: {round(train_rmse, 3)}.',\n",
        "                f'Test: {round(val_rmse, 3)} {round(val_corr, 3)}', n_inc)\n",
        "        if n_inc >= tol:\n",
        "            break\n",
        "    \n",
        "    return model, rmse, corr, epoch\n",
        "\n"
      ],
      "metadata": {
        "id": "BL9yFcZVWjh2",
        "cellView": "form"
      },
      "execution_count": 51,
      "outputs": []
    },
    {
      "cell_type": "code",
      "source": [
        "#@title Define simple CNN\n",
        "# From: https://pytorch.org/tutorials/recipes/recipes/defining_a_neural_network.html\n",
        "# Also used: https://pytorch.org/tutorials/beginner/deep_learning_60min_blitz.html\n",
        "\n",
        "x_dim, x_flat_dim = 14, 1\n",
        "kernel_sz = 3\n",
        "# n_ts = len(TS_COLS)\n",
        "\n",
        "class Net(nn.Module):\n",
        "\n",
        "    def __conv_calc(self, in_dim, pad, stride, k):\n",
        "        return int(np.floor((in_dim + 2 * pad - (k - 1) - 1) / stride + 1))\n",
        "\n",
        "    # def __init__(self, initial_filters=4, dense_neurons=16, dropout=0.1, conv_layers=1, verbose=False):\n",
        "    def __init__(self, conv_layers, initial_filters, dense_neurons, kernel_sz, stride, dropout, n_ts, verbose=False):\n",
        "        super(Net, self).__init__()\n",
        "        self.verbose = verbose\n",
        "        self.conv_layers = conv_layers\n",
        "        self.n_ts = n_ts\n",
        "        n_channels, width = 1, x_dim\n",
        "\n",
        "        for c in range(conv_layers):\n",
        "            for i in range(n_ts):\n",
        "                setattr(self, f'ts_conv{c}_{i}', nn.Conv1d(n_channels, initial_filters, kernel_sz, stride))\n",
        "                setattr(self, f'ts_bn{c}_{i}', nn.BatchNorm1d(initial_filters))\n",
        "            n_channels = initial_filters\n",
        "            width = np.floor(self.__conv_calc(width, 0, stride, kernel_sz) / 2)\n",
        "            \n",
        "        self.dropout1 = nn.Dropout1d(dropout)\n",
        "        concat_dim = width * initial_filters * n_ts\n",
        "        \n",
        "        self.fc1 = nn.Linear(int(concat_dim), dense_neurons)\n",
        "        self.fc2 = nn.Linear(dense_neurons + 1, 1)\n",
        " \n",
        "\n",
        "    def quick_print(self, x, i, dat=''):\n",
        "        if self.verbose:\n",
        "            print(i, x.shape, dat)\n",
        "        return i + 1\n",
        "\n",
        "\n",
        "    def forward(self, x):\n",
        "        x_ts, x_flat = x[:-1], x[-1]\n",
        "        i = 0\n",
        "\n",
        "        for c in range(self.conv_layers):\n",
        "            for ts_i in range(self.n_ts):\n",
        "                i = self.quick_print(x_ts[ts_i], i, c)\n",
        "                x_ts[ts_i] = getattr(self, f'ts_conv{c}_{ts_i}')(x_ts[ts_i])\n",
        "                x_ts[ts_i] = getattr(self, f'ts_bn{c}_{ts_i}')(x_ts[ts_i])\n",
        "                i = self.quick_print(x_ts[ts_i], i, c)\n",
        "                x_ts[ts_i] = F.relu(x_ts[ts_i])\n",
        "                x_ts[ts_i] = F.max_pool1d(x_ts[ts_i], 2)\n",
        "                x_ts[ts_i] = self.dropout1(x_ts[ts_i])\n",
        "                i = self.quick_print(x_ts[ts_i], i, c)\n",
        "        \n",
        "        for ts_i in range(self.n_ts):\n",
        "            x_ts[ts_i] = torch.flatten(x_ts[ts_i], 1)\n",
        "            i = self.quick_print(x_ts[ts_i], i)\n",
        "\n",
        "        x_ts = torch.cat(x_ts, 1)\n",
        "        i = self.quick_print(x_ts, i)\n",
        "\n",
        "        x_ts = self.fc1(x_ts)\n",
        "        x_ts = F.relu(x_ts)\n",
        "        i = self.quick_print(x_ts, i)\n",
        "\n",
        "        x = torch.cat((x_ts, x_flat), 1)\n",
        "        x = self.fc2(x)\n",
        "\n",
        "        return x\n",
        "\n",
        "# print(model_kw)\n",
        "# my_nn = Net(verbose=True, **model_kw) #Net(1, 4, 8, 5, 3, 0.1, verbose=True)\n",
        "# optimizer = optim.SGD(my_nn.parameters(), lr=0.001)\n",
        "# optimizer.zero_grad()\n",
        "\n",
        "# x, x_flat = train_x[0], train_x[1]\n",
        "\n",
        "# test_im = [torch.from_numpy(i[:2]).type(torch.float32) for i in x] + \\\n",
        "#           [torch.from_numpy(x_flat[:2]).type(torch.float32)]\n",
        "\n",
        "# result = my_nn(test_im)\n",
        "# result\n",
        "\n",
        "# # del my_nn\n",
        "\n"
      ],
      "metadata": {
        "cellView": "form",
        "id": "NpKLArypWjff"
      },
      "execution_count": 53,
      "outputs": []
    },
    {
      "cell_type": "code",
      "source": [
        "\"\"\"\n",
        "batch_size: 32 same/worse\n",
        "conv_layers: 2 same/worse, might need more epochs\n",
        "dense_neurons: 32 a little better, 8 a little worse\n",
        "dropout: 0.5 is bad\n",
        "initial_filters: 16 a little better, 4 a little worse\n",
        "lr: 1e-5 is too low - check if 1e-3 looks stable, if so just go with it?\n",
        "stride: seems worse though maybe better w diff kernel?\n",
        "weight decay: can leave out\n",
        "\"\"\"\n",
        "print()"
      ],
      "metadata": {
        "id": "YZl-nWhmk080"
      },
      "execution_count": null,
      "outputs": []
    },
    {
      "cell_type": "code",
      "source": [
        "param_dict_full = {'lr': [1e-5, 1e-4, 1e-3],\n",
        "     'weight_decay': [0, 1e-5],\n",
        "     'optimizer': [optim.Adam],\n",
        "     'max_epochs': [10],\n",
        "     'batch_size': [32, 64],\n",
        "     'conv_layers': [1, 2],\n",
        "     'initial_filters': [4, 8, 16],\n",
        "     'dense_neurons': [8, 16, 32],\n",
        "     'kernel_sz': [2, 3, 4, 5],\n",
        "     'stride': [1, 2, 3],\n",
        "     'dropout': [0, 0.1, 0.5],\n",
        "     'ts_cols': [vars_full, vars_0, vars_1, vars_full]\n",
        "    }\n",
        "\n",
        "param_dict_small = {'lr': [1e-4, 1e-3],\n",
        "     'weight_decay': [0],\n",
        "     'optimizer': [optim.Adam],\n",
        "     'max_epochs': [100],\n",
        "     'batch_size': [64],\n",
        "     'conv_layers': [1, 2],\n",
        "     'initial_filters': [4, 8, 16],\n",
        "     'dense_neurons': [8, 16, 32],\n",
        "     'kernel_sz': [2, 3, 4],\n",
        "     'stride': [1, 2],\n",
        "     'dropout': [0, 0.1, 0.25],\n",
        "     'ts_cols': [vars_0, vars_1, vars_full]\n",
        "    }\n",
        "\n",
        "base_params = {'lr': [1e-4],\n",
        "     'weight_decay': [0],\n",
        "     'optimizer': [optim.Adam],\n",
        "     'max_epochs': [100],\n",
        "     'batch_size': [64],\n",
        "     'conv_layers': [1],\n",
        "     'initial_filters': [8],\n",
        "     'dense_neurons': [16],\n",
        "     'kernel_sz': [3],\n",
        "     'stride': [1],\n",
        "     'dropout': [0.1],\n",
        "     'ts_cols': [vars_0]\n",
        "    }\n",
        "\n",
        "keys, values = zip(*param_dict_full.items())\n",
        "param_combinations = [dict(zip(keys, v)) for v in itertools.product(*values)]\n",
        "print(len(param_combinations))\n",
        "\n",
        "keys, values = zip(*param_dict_small.items())\n",
        "param_combinations = [dict(zip(keys, v)) for v in itertools.product(*values)]\n",
        "param_combinations = [p for p in param_combinations if p['kernel_sz'] > p['stride']]\n",
        "print(len(param_combinations))\n",
        "\n",
        "\n",
        "keys, values = zip(*base_params.items())\n",
        "param_combinations = [dict(zip(keys, v)) for v in itertools.product(*values)]\n",
        "params = param_combinations[0]\n",
        "len(param_combinations)\n",
        "\n",
        "params\n",
        "\n"
      ],
      "metadata": {
        "colab": {
          "base_uri": "https://localhost:8080/"
        },
        "id": "BZW_ghhPpDH4",
        "outputId": "d33a4563-9b10-4e29-a411-5dba851278a0"
      },
      "execution_count": 82,
      "outputs": [
        {
          "output_type": "stream",
          "name": "stdout",
          "text": [
            "31104\n",
            "1620\n"
          ]
        },
        {
          "output_type": "execute_result",
          "data": {
            "text/plain": [
              "{'lr': 0.0001,\n",
              " 'weight_decay': 0,\n",
              " 'optimizer': torch.optim.adam.Adam,\n",
              " 'max_epochs': 100,\n",
              " 'batch_size': 64,\n",
              " 'conv_layers': 1,\n",
              " 'initial_filters': 8,\n",
              " 'dense_neurons': 16,\n",
              " 'kernel_sz': 3,\n",
              " 'stride': 1,\n",
              " 'dropout': 0.1,\n",
              " 'ts_cols': ['gcvi', 'dday29C', 'rain']}"
            ]
          },
          "metadata": {},
          "execution_count": 82
        }
      ]
    },
    {
      "cell_type": "code",
      "source": [
        "test_year = 2018\n",
        "performance = []\n",
        "\n",
        "def train_for_params(test_year, params, track_param):\n",
        "    # Get datasets\n",
        "    ds_kw = {'ss': StandardScaler(), 'batch_size': params['batch_size'], 'ts_cols': params['ts_cols']}\n",
        "    train_pd, val_pd, test_pd = split_train_test(test_year)\n",
        "    train_x, train_y, train_dataset, train_loader = get_model_data(train_pd, train=True, **ds_kw)\n",
        "    val_x, val_y, val_dataset, val_loader = get_model_data(val_pd, train=False, **ds_kw)\n",
        "    test_x, test_y, test_dataset, test_loader = get_model_data(test_pd, train=False, **ds_kw)\n",
        "\n",
        "    # Setup model\n",
        "    model, optimizer = get_model(params, device)\n",
        "\n",
        "    # Train\n",
        "    model, rmse, corr, epoch = do_train_loop(model, device, optimizer, criterion,\n",
        "        params['max_epochs'], train_loader, val_x, val_y, tol=300, verbose=1)\n",
        "    \n",
        "    print([track_param, params[track_param], round(rmse[-1], 3), round(corr[-1], 3), epoch])\n",
        "    # return [track_param, params[track_param], rmse[-1], corr[-1], epoch]\n",
        "    return track_param, params[track_param], rmse, corr, epoch\n",
        "\n",
        "# k = list(param_dict.keys())[0]\n",
        "# curr_dict = {i: base_params[i] for i in base_params}\n",
        "# curr_dict[k] = set(param_dict[k]) - set(base_params[k])\n",
        "\n",
        "# keys, values = zip(*curr_dict.items())\n",
        "# param_combinations = [dict(zip(keys, v)) for v in itertools.product(*values)]\n",
        "\n",
        "# params = param_combinations[0]\n",
        "# performance.append(train_for_params(test_year, params, k))\n",
        "\n",
        "_, _, rmse, corr, _ = train_for_params(test_year, params, k)\n",
        "\n"
      ],
      "metadata": {
        "colab": {
          "base_uri": "https://localhost:8080/"
        },
        "id": "mlMELo-FWjYp",
        "outputId": "d486f304-b547-420f-b939-81a5964f876e"
      },
      "execution_count": 73,
      "outputs": [
        {
          "output_type": "stream",
          "name": "stdout",
          "text": [
            "0 / 100 complete. Test: 3.547 0.01\n",
            "1 / 100 complete. Train: 0.953. Test: 0.908 0.437 0\n",
            "2 / 100 complete. Train: 0.924. Test: 0.895 0.445 0\n",
            "3 / 100 complete. Train: 0.917. Test: 0.889 0.454 0\n",
            "4 / 100 complete. Train: 0.915. Test: 0.887 0.459 0\n",
            "5 / 100 complete. Train: 0.914. Test: 0.885 0.462 0\n",
            "6 / 100 complete. Train: 0.909. Test: 0.883 0.464 0\n",
            "7 / 100 complete. Train: 0.909. Test: 0.882 0.467 0\n",
            "8 / 100 complete. Train: 0.908. Test: 0.881 0.468 0\n",
            "9 / 100 complete. Train: 0.907. Test: 0.88 0.47 0\n",
            "10 / 100 complete. Train: 0.906. Test: 0.88 0.471 0\n",
            "11 / 100 complete. Train: 0.906. Test: 0.879 0.473 0\n",
            "12 / 100 complete. Train: 0.904. Test: 0.878 0.475 0\n",
            "13 / 100 complete. Train: 0.903. Test: 0.877 0.476 0\n",
            "14 / 100 complete. Train: 0.903. Test: 0.876 0.477 0\n",
            "15 / 100 complete. Train: 0.903. Test: 0.876 0.478 0\n",
            "16 / 100 complete. Train: 0.903. Test: 0.875 0.479 0\n",
            "17 / 100 complete. Train: 0.9. Test: 0.875 0.48 0\n",
            "18 / 100 complete. Train: 0.9. Test: 0.874 0.481 0\n",
            "19 / 100 complete. Train: 0.899. Test: 0.874 0.482 0\n",
            "20 / 100 complete. Train: 0.898. Test: 0.873 0.483 0\n",
            "21 / 100 complete. Train: 0.898. Test: 0.873 0.484 0\n",
            "22 / 100 complete. Train: 0.898. Test: 0.873 0.484 0\n",
            "23 / 100 complete. Train: 0.897. Test: 0.872 0.485 0\n",
            "24 / 100 complete. Train: 0.897. Test: 0.872 0.485 0\n",
            "25 / 100 complete. Train: 0.897. Test: 0.872 0.486 0\n",
            "26 / 100 complete. Train: 0.898. Test: 0.872 0.486 0\n",
            "27 / 100 complete. Train: 0.893. Test: 0.871 0.486 0\n",
            "28 / 100 complete. Train: 0.894. Test: 0.871 0.487 0\n",
            "29 / 100 complete. Train: 0.894. Test: 0.871 0.487 0\n",
            "30 / 100 complete. Train: 0.894. Test: 0.871 0.488 0\n",
            "31 / 100 complete. Train: 0.892. Test: 0.87 0.488 0\n",
            "32 / 100 complete. Train: 0.892. Test: 0.87 0.489 0\n",
            "33 / 100 complete. Train: 0.893. Test: 0.869 0.49 0\n",
            "34 / 100 complete. Train: 0.893. Test: 0.869 0.49 1\n",
            "35 / 100 complete. Train: 0.891. Test: 0.869 0.49 0\n",
            "36 / 100 complete. Train: 0.891. Test: 0.869 0.49 0\n",
            "37 / 100 complete. Train: 0.89. Test: 0.869 0.491 0\n",
            "38 / 100 complete. Train: 0.891. Test: 0.868 0.492 0\n",
            "39 / 100 complete. Train: 0.888. Test: 0.868 0.492 0\n",
            "40 / 100 complete. Train: 0.889. Test: 0.868 0.493 1\n",
            "41 / 100 complete. Train: 0.889. Test: 0.868 0.493 0\n",
            "42 / 100 complete. Train: 0.888. Test: 0.868 0.493 0\n",
            "43 / 100 complete. Train: 0.888. Test: 0.867 0.493 0\n",
            "44 / 100 complete. Train: 0.889. Test: 0.867 0.494 0\n",
            "45 / 100 complete. Train: 0.89. Test: 0.867 0.495 0\n",
            "46 / 100 complete. Train: 0.886. Test: 0.867 0.495 0\n",
            "47 / 100 complete. Train: 0.888. Test: 0.867 0.495 0\n",
            "48 / 100 complete. Train: 0.886. Test: 0.866 0.495 0\n",
            "49 / 100 complete. Train: 0.884. Test: 0.866 0.495 0\n",
            "50 / 100 complete. Train: 0.885. Test: 0.866 0.495 0\n",
            "51 / 100 complete. Train: 0.886. Test: 0.866 0.496 0\n",
            "52 / 100 complete. Train: 0.886. Test: 0.866 0.496 0\n",
            "53 / 100 complete. Train: 0.885. Test: 0.866 0.496 1\n",
            "54 / 100 complete. Train: 0.884. Test: 0.866 0.497 0\n",
            "55 / 100 complete. Train: 0.886. Test: 0.865 0.497 0\n",
            "56 / 100 complete. Train: 0.883. Test: 0.866 0.497 1\n",
            "57 / 100 complete. Train: 0.882. Test: 0.866 0.497 2\n",
            "58 / 100 complete. Train: 0.883. Test: 0.865 0.497 0\n",
            "59 / 100 complete. Train: 0.884. Test: 0.865 0.497 0\n",
            "60 / 100 complete. Train: 0.884. Test: 0.865 0.498 0\n",
            "61 / 100 complete. Train: 0.882. Test: 0.865 0.498 0\n",
            "62 / 100 complete. Train: 0.884. Test: 0.865 0.498 0\n",
            "63 / 100 complete. Train: 0.883. Test: 0.865 0.497 1\n",
            "64 / 100 complete. Train: 0.881. Test: 0.865 0.498 2\n",
            "65 / 100 complete. Train: 0.882. Test: 0.865 0.498 3\n",
            "66 / 100 complete. Train: 0.88. Test: 0.865 0.498 0\n",
            "67 / 100 complete. Train: 0.881. Test: 0.865 0.498 0\n",
            "68 / 100 complete. Train: 0.881. Test: 0.865 0.498 1\n",
            "69 / 100 complete. Train: 0.884. Test: 0.865 0.499 0\n",
            "70 / 100 complete. Train: 0.881. Test: 0.864 0.499 0\n",
            "71 / 100 complete. Train: 0.881. Test: 0.864 0.498 1\n",
            "72 / 100 complete. Train: 0.879. Test: 0.864 0.499 0\n",
            "73 / 100 complete. Train: 0.88. Test: 0.864 0.499 1\n",
            "74 / 100 complete. Train: 0.88. Test: 0.864 0.499 2\n",
            "75 / 100 complete. Train: 0.88. Test: 0.864 0.499 3\n",
            "76 / 100 complete. Train: 0.879. Test: 0.864 0.499 4\n",
            "77 / 100 complete. Train: 0.879. Test: 0.864 0.5 0\n",
            "78 / 100 complete. Train: 0.879. Test: 0.864 0.499 1\n",
            "79 / 100 complete. Train: 0.878. Test: 0.864 0.499 2\n",
            "80 / 100 complete. Train: 0.879. Test: 0.864 0.499 3\n",
            "81 / 100 complete. Train: 0.877. Test: 0.864 0.499 4\n",
            "82 / 100 complete. Train: 0.879. Test: 0.864 0.5 0\n",
            "83 / 100 complete. Train: 0.878. Test: 0.864 0.5 1\n",
            "84 / 100 complete. Train: 0.877. Test: 0.864 0.5 2\n",
            "85 / 100 complete. Train: 0.877. Test: 0.863 0.5 0\n",
            "86 / 100 complete. Train: 0.876. Test: 0.863 0.5 0\n",
            "87 / 100 complete. Train: 0.876. Test: 0.864 0.5 1\n",
            "88 / 100 complete. Train: 0.878. Test: 0.864 0.5 2\n",
            "89 / 100 complete. Train: 0.875. Test: 0.863 0.5 3\n",
            "90 / 100 complete. Train: 0.876. Test: 0.864 0.5 4\n",
            "91 / 100 complete. Train: 0.876. Test: 0.864 0.5 5\n",
            "92 / 100 complete. Train: 0.874. Test: 0.864 0.5 6\n",
            "93 / 100 complete. Train: 0.876. Test: 0.864 0.5 7\n",
            "94 / 100 complete. Train: 0.875. Test: 0.864 0.5 8\n",
            "95 / 100 complete. Train: 0.876. Test: 0.864 0.499 9\n",
            "96 / 100 complete. Train: 0.874. Test: 0.864 0.499 10\n",
            "97 / 100 complete. Train: 0.876. Test: 0.864 0.5 11\n",
            "98 / 100 complete. Train: 0.874. Test: 0.864 0.5 12\n",
            "99 / 100 complete. Train: 0.876. Test: 0.864 0.5 13\n",
            "100 / 100 complete. Train: 0.875. Test: 0.863 0.5 14\n",
            "['lr', 0.0001, 0.863, 0.5, 99]\n"
          ]
        }
      ]
    },
    {
      "cell_type": "code",
      "source": [
        "performance_df = pd.DataFrame(performance, columns=['param', 'value', 'rmse', 'corr', 'epochs'])"
      ],
      "metadata": {
        "id": "PoXnZYZsWjda"
      },
      "execution_count": null,
      "outputs": []
    },
    {
      "cell_type": "code",
      "source": [],
      "metadata": {
        "id": "pThRSDFcRMY4"
      },
      "execution_count": null,
      "outputs": []
    },
    {
      "cell_type": "code",
      "source": [],
      "metadata": {
        "id": "2SQRzZetRMRP"
      },
      "execution_count": null,
      "outputs": []
    },
    {
      "cell_type": "code",
      "source": [],
      "metadata": {
        "id": "ni0eCu-FI7b1"
      },
      "execution_count": null,
      "outputs": []
    },
    {
      "cell_type": "code",
      "source": [],
      "metadata": {
        "id": "bc-V-8-zMgao"
      },
      "execution_count": null,
      "outputs": []
    },
    {
      "cell_type": "code",
      "source": [],
      "metadata": {
        "id": "orJgn_m_pWf4"
      },
      "execution_count": null,
      "outputs": []
    },
    {
      "cell_type": "code",
      "source": [],
      "metadata": {
        "id": "3KjcEusmWjWA"
      },
      "execution_count": null,
      "outputs": []
    },
    {
      "cell_type": "code",
      "source": [
        "#@title Plot train/val error\n",
        "from plotly import subplots\n",
        "\n",
        "fig = go.Figure()\n",
        "fig = subplots.make_subplots(rows=1, cols=2)\n",
        "fig.add_trace(go.Scatter(x=[x for x in range(N_EPOCHS)], y=rmse[1:], showlegend=False), row=1, col=1)\n",
        "fig.add_trace(go.Scatter(x=[x for x in range(N_EPOCHS)], y=corr[1:], showlegend=False), row=1, col=2)\n",
        "fig.show()"
      ],
      "metadata": {
        "colab": {
          "base_uri": "https://localhost:8080/",
          "height": 542
        },
        "id": "2HtBl9yCW45U",
        "outputId": "b0e4a855-a805-4adf-f924-32f6bc47c199"
      },
      "execution_count": 74,
      "outputs": [
        {
          "output_type": "display_data",
          "data": {
            "text/html": [
              "<html>\n",
              "<head><meta charset=\"utf-8\" /></head>\n",
              "<body>\n",
              "    <div>            <script src=\"https://cdnjs.cloudflare.com/ajax/libs/mathjax/2.7.5/MathJax.js?config=TeX-AMS-MML_SVG\"></script><script type=\"text/javascript\">if (window.MathJax) {MathJax.Hub.Config({SVG: {font: \"STIX-Web\"}});}</script>                <script type=\"text/javascript\">window.PlotlyConfig = {MathJaxConfig: 'local'};</script>\n",
              "        <script src=\"https://cdn.plot.ly/plotly-2.8.3.min.js\"></script>                <div id=\"1003408f-1067-4fd0-904d-0fa1a1f0f8e9\" class=\"plotly-graph-div\" style=\"height:525px; width:100%;\"></div>            <script type=\"text/javascript\">                                    window.PLOTLYENV=window.PLOTLYENV || {};                                    if (document.getElementById(\"1003408f-1067-4fd0-904d-0fa1a1f0f8e9\")) {                    Plotly.newPlot(                        \"1003408f-1067-4fd0-904d-0fa1a1f0f8e9\",                        [{\"showlegend\":false,\"x\":[0,1,2,3,4,5,6,7,8,9,10,11,12,13,14,15,16,17,18,19,20,21,22,23,24,25,26,27,28,29,30,31,32,33,34,35,36,37,38,39,40,41,42,43,44,45,46,47,48,49,50,51,52,53,54,55,56,57,58,59,60,61,62,63,64,65,66,67,68,69,70,71,72,73,74,75,76,77,78,79,80,81,82,83,84,85,86,87,88,89,90,91,92,93,94,95,96,97,98,99],\"y\":[0.9081542955623454,0.8948302123383082,0.8891639437063247,0.8866474274170929,0.8847464249908663,0.8834339418936703,0.8819942226696453,0.8810571080662721,0.8799603054457379,0.8795362122233588,0.8786277160103261,0.8776323708247945,0.8769221650841511,0.8763044035126502,0.8758248120107229,0.8754007579756609,0.8748553020179932,0.8743693258716293,0.8735066340456034,0.8730131479870321,0.8728031441214074,0.8725517285487306,0.8721890256588862,0.87194628543733,0.8717930129685515,0.8715607285233662,0.871324825001859,0.8710857442308335,0.8708580279765495,0.8706653721986215,0.8703153408147994,0.8698758904953696,0.869430493654879,0.8694545564649132,0.8690540056249024,0.8690289714974996,0.8686500450648513,0.8683661278287498,0.8679605766893564,0.8679704654103246,0.8676263197248694,0.8675933094576583,0.8674181382309125,0.867133783274799,0.8667540283065504,0.8666048928094288,0.8665349068497608,0.8664970054596732,0.8663381592778933,0.8661131518711497,0.8659786011692815,0.8658042391630301,0.8658305024060061,0.8656153475226689,0.8653649087439006,0.8656260548939801,0.8655324039442583,0.8653624635697809,0.8652693007332705,0.865103373717592,0.8649973318577007,0.8648691547525421,0.8653401467317611,0.8649589840861277,0.8650588294514224,0.8647645316158836,0.8645967153103389,0.8648214625077292,0.864509847497756,0.8642042240404199,0.864319121346795,0.8640750670252095,0.8642146040465768,0.8642959155287974,0.8643141561127228,0.8641034176952581,0.8638029981548321,0.8639773156115425,0.8639637592317921,0.863996356274286,0.8640119127361825,0.8636787155480885,0.8638645462730579,0.863738512826765,0.8634336518275425,0.8633039652740074,0.8636217093251113,0.863700592239917,0.8634813516963324,0.8635664593888195,0.8637454480770312,0.8636277828064052,0.8635703245836766,0.8636913102411874,0.863872963948335,0.8640715145034052,0.8635250455010619,0.8635233543917715,0.8636587016853511,0.8634933625359881],\"type\":\"scatter\",\"xaxis\":\"x\",\"yaxis\":\"y\"},{\"showlegend\":false,\"x\":[0,1,2,3,4,5,6,7,8,9,10,11,12,13,14,15,16,17,18,19,20,21,22,23,24,25,26,27,28,29,30,31,32,33,34,35,36,37,38,39,40,41,42,43,44,45,46,47,48,49,50,51,52,53,54,55,56,57,58,59,60,61,62,63,64,65,66,67,68,69,70,71,72,73,74,75,76,77,78,79,80,81,82,83,84,85,86,87,88,89,90,91,92,93,94,95,96,97,98,99],\"y\":[0.43692565379786075,0.4452744473188623,0.4544854778974423,0.4590704742091696,0.4619772621139,0.4642626275044985,0.46668117212823323,0.4683569421693102,0.4702278727209251,0.4713064974369065,0.4728990845021704,0.4747851317874684,0.47604770080283276,0.4772286502973272,0.47826790575795575,0.4791379062500106,0.47984459192058865,0.4809048723026792,0.4819209073788383,0.48317843350990247,0.4838136154628088,0.48427266000148944,0.48485391941688033,0.4852262863055832,0.4855955938850244,0.4861386087235145,0.4864840451742659,0.4867438937426698,0.48729340931959747,0.48758857483881723,0.4881830916545288,0.48914663819460613,0.49007527990420463,0.49021775662547645,0.4904926443980145,0.4904363184434694,0.49119612985552474,0.4917785886246006,0.4924453363161355,0.49261388201925405,0.4932748509258111,0.4933208989560171,0.4933419801708149,0.4941768180187997,0.4947406982380102,0.49473662188383455,0.4948050531218272,0.49495963612167126,0.4949752317818656,0.49544462824571267,0.49565352259874457,0.49629921208783406,0.4963427505214131,0.4966754082670294,0.4967426724816757,0.49665493116799325,0.4966125893829266,0.49703947410273336,0.49723686352673363,0.4975610526704779,0.4975373565731611,0.49809824804290476,0.4969419120997778,0.497755796683539,0.49758635328722867,0.49793999700420316,0.49826768797390086,0.4980783453874375,0.49859232559095634,0.49880255127733153,0.49847091571299385,0.49884596814445614,0.49890692228650557,0.4988335208828052,0.4989005861947036,0.49889467569797263,0.4995742125754991,0.4994561843519545,0.49908733441828984,0.4993636366465698,0.49937600222489387,0.4998181338276137,0.49950336601716094,0.4997988789006151,0.4998597451004219,0.5004075214579912,0.4996650790340315,0.49957012862661815,0.499703837955778,0.49977467969390277,0.4995451510488745,0.4995603802489922,0.49954571263681097,0.4997109849402181,0.49917428373283246,0.49904790668717275,0.4996506788472638,0.49970408699314145,0.4996638648790943,0.4998132724228991],\"type\":\"scatter\",\"xaxis\":\"x2\",\"yaxis\":\"y2\"}],                        {\"template\":{\"data\":{\"bar\":[{\"error_x\":{\"color\":\"#2a3f5f\"},\"error_y\":{\"color\":\"#2a3f5f\"},\"marker\":{\"line\":{\"color\":\"#E5ECF6\",\"width\":0.5},\"pattern\":{\"fillmode\":\"overlay\",\"size\":10,\"solidity\":0.2}},\"type\":\"bar\"}],\"barpolar\":[{\"marker\":{\"line\":{\"color\":\"#E5ECF6\",\"width\":0.5},\"pattern\":{\"fillmode\":\"overlay\",\"size\":10,\"solidity\":0.2}},\"type\":\"barpolar\"}],\"carpet\":[{\"aaxis\":{\"endlinecolor\":\"#2a3f5f\",\"gridcolor\":\"white\",\"linecolor\":\"white\",\"minorgridcolor\":\"white\",\"startlinecolor\":\"#2a3f5f\"},\"baxis\":{\"endlinecolor\":\"#2a3f5f\",\"gridcolor\":\"white\",\"linecolor\":\"white\",\"minorgridcolor\":\"white\",\"startlinecolor\":\"#2a3f5f\"},\"type\":\"carpet\"}],\"choropleth\":[{\"colorbar\":{\"outlinewidth\":0,\"ticks\":\"\"},\"type\":\"choropleth\"}],\"contour\":[{\"colorbar\":{\"outlinewidth\":0,\"ticks\":\"\"},\"colorscale\":[[0.0,\"#0d0887\"],[0.1111111111111111,\"#46039f\"],[0.2222222222222222,\"#7201a8\"],[0.3333333333333333,\"#9c179e\"],[0.4444444444444444,\"#bd3786\"],[0.5555555555555556,\"#d8576b\"],[0.6666666666666666,\"#ed7953\"],[0.7777777777777778,\"#fb9f3a\"],[0.8888888888888888,\"#fdca26\"],[1.0,\"#f0f921\"]],\"type\":\"contour\"}],\"contourcarpet\":[{\"colorbar\":{\"outlinewidth\":0,\"ticks\":\"\"},\"type\":\"contourcarpet\"}],\"heatmap\":[{\"colorbar\":{\"outlinewidth\":0,\"ticks\":\"\"},\"colorscale\":[[0.0,\"#0d0887\"],[0.1111111111111111,\"#46039f\"],[0.2222222222222222,\"#7201a8\"],[0.3333333333333333,\"#9c179e\"],[0.4444444444444444,\"#bd3786\"],[0.5555555555555556,\"#d8576b\"],[0.6666666666666666,\"#ed7953\"],[0.7777777777777778,\"#fb9f3a\"],[0.8888888888888888,\"#fdca26\"],[1.0,\"#f0f921\"]],\"type\":\"heatmap\"}],\"heatmapgl\":[{\"colorbar\":{\"outlinewidth\":0,\"ticks\":\"\"},\"colorscale\":[[0.0,\"#0d0887\"],[0.1111111111111111,\"#46039f\"],[0.2222222222222222,\"#7201a8\"],[0.3333333333333333,\"#9c179e\"],[0.4444444444444444,\"#bd3786\"],[0.5555555555555556,\"#d8576b\"],[0.6666666666666666,\"#ed7953\"],[0.7777777777777778,\"#fb9f3a\"],[0.8888888888888888,\"#fdca26\"],[1.0,\"#f0f921\"]],\"type\":\"heatmapgl\"}],\"histogram\":[{\"marker\":{\"pattern\":{\"fillmode\":\"overlay\",\"size\":10,\"solidity\":0.2}},\"type\":\"histogram\"}],\"histogram2d\":[{\"colorbar\":{\"outlinewidth\":0,\"ticks\":\"\"},\"colorscale\":[[0.0,\"#0d0887\"],[0.1111111111111111,\"#46039f\"],[0.2222222222222222,\"#7201a8\"],[0.3333333333333333,\"#9c179e\"],[0.4444444444444444,\"#bd3786\"],[0.5555555555555556,\"#d8576b\"],[0.6666666666666666,\"#ed7953\"],[0.7777777777777778,\"#fb9f3a\"],[0.8888888888888888,\"#fdca26\"],[1.0,\"#f0f921\"]],\"type\":\"histogram2d\"}],\"histogram2dcontour\":[{\"colorbar\":{\"outlinewidth\":0,\"ticks\":\"\"},\"colorscale\":[[0.0,\"#0d0887\"],[0.1111111111111111,\"#46039f\"],[0.2222222222222222,\"#7201a8\"],[0.3333333333333333,\"#9c179e\"],[0.4444444444444444,\"#bd3786\"],[0.5555555555555556,\"#d8576b\"],[0.6666666666666666,\"#ed7953\"],[0.7777777777777778,\"#fb9f3a\"],[0.8888888888888888,\"#fdca26\"],[1.0,\"#f0f921\"]],\"type\":\"histogram2dcontour\"}],\"mesh3d\":[{\"colorbar\":{\"outlinewidth\":0,\"ticks\":\"\"},\"type\":\"mesh3d\"}],\"parcoords\":[{\"line\":{\"colorbar\":{\"outlinewidth\":0,\"ticks\":\"\"}},\"type\":\"parcoords\"}],\"pie\":[{\"automargin\":true,\"type\":\"pie\"}],\"scatter\":[{\"marker\":{\"colorbar\":{\"outlinewidth\":0,\"ticks\":\"\"}},\"type\":\"scatter\"}],\"scatter3d\":[{\"line\":{\"colorbar\":{\"outlinewidth\":0,\"ticks\":\"\"}},\"marker\":{\"colorbar\":{\"outlinewidth\":0,\"ticks\":\"\"}},\"type\":\"scatter3d\"}],\"scattercarpet\":[{\"marker\":{\"colorbar\":{\"outlinewidth\":0,\"ticks\":\"\"}},\"type\":\"scattercarpet\"}],\"scattergeo\":[{\"marker\":{\"colorbar\":{\"outlinewidth\":0,\"ticks\":\"\"}},\"type\":\"scattergeo\"}],\"scattergl\":[{\"marker\":{\"colorbar\":{\"outlinewidth\":0,\"ticks\":\"\"}},\"type\":\"scattergl\"}],\"scattermapbox\":[{\"marker\":{\"colorbar\":{\"outlinewidth\":0,\"ticks\":\"\"}},\"type\":\"scattermapbox\"}],\"scatterpolar\":[{\"marker\":{\"colorbar\":{\"outlinewidth\":0,\"ticks\":\"\"}},\"type\":\"scatterpolar\"}],\"scatterpolargl\":[{\"marker\":{\"colorbar\":{\"outlinewidth\":0,\"ticks\":\"\"}},\"type\":\"scatterpolargl\"}],\"scatterternary\":[{\"marker\":{\"colorbar\":{\"outlinewidth\":0,\"ticks\":\"\"}},\"type\":\"scatterternary\"}],\"surface\":[{\"colorbar\":{\"outlinewidth\":0,\"ticks\":\"\"},\"colorscale\":[[0.0,\"#0d0887\"],[0.1111111111111111,\"#46039f\"],[0.2222222222222222,\"#7201a8\"],[0.3333333333333333,\"#9c179e\"],[0.4444444444444444,\"#bd3786\"],[0.5555555555555556,\"#d8576b\"],[0.6666666666666666,\"#ed7953\"],[0.7777777777777778,\"#fb9f3a\"],[0.8888888888888888,\"#fdca26\"],[1.0,\"#f0f921\"]],\"type\":\"surface\"}],\"table\":[{\"cells\":{\"fill\":{\"color\":\"#EBF0F8\"},\"line\":{\"color\":\"white\"}},\"header\":{\"fill\":{\"color\":\"#C8D4E3\"},\"line\":{\"color\":\"white\"}},\"type\":\"table\"}]},\"layout\":{\"annotationdefaults\":{\"arrowcolor\":\"#2a3f5f\",\"arrowhead\":0,\"arrowwidth\":1},\"autotypenumbers\":\"strict\",\"coloraxis\":{\"colorbar\":{\"outlinewidth\":0,\"ticks\":\"\"}},\"colorscale\":{\"diverging\":[[0,\"#8e0152\"],[0.1,\"#c51b7d\"],[0.2,\"#de77ae\"],[0.3,\"#f1b6da\"],[0.4,\"#fde0ef\"],[0.5,\"#f7f7f7\"],[0.6,\"#e6f5d0\"],[0.7,\"#b8e186\"],[0.8,\"#7fbc41\"],[0.9,\"#4d9221\"],[1,\"#276419\"]],\"sequential\":[[0.0,\"#0d0887\"],[0.1111111111111111,\"#46039f\"],[0.2222222222222222,\"#7201a8\"],[0.3333333333333333,\"#9c179e\"],[0.4444444444444444,\"#bd3786\"],[0.5555555555555556,\"#d8576b\"],[0.6666666666666666,\"#ed7953\"],[0.7777777777777778,\"#fb9f3a\"],[0.8888888888888888,\"#fdca26\"],[1.0,\"#f0f921\"]],\"sequentialminus\":[[0.0,\"#0d0887\"],[0.1111111111111111,\"#46039f\"],[0.2222222222222222,\"#7201a8\"],[0.3333333333333333,\"#9c179e\"],[0.4444444444444444,\"#bd3786\"],[0.5555555555555556,\"#d8576b\"],[0.6666666666666666,\"#ed7953\"],[0.7777777777777778,\"#fb9f3a\"],[0.8888888888888888,\"#fdca26\"],[1.0,\"#f0f921\"]]},\"colorway\":[\"#636efa\",\"#EF553B\",\"#00cc96\",\"#ab63fa\",\"#FFA15A\",\"#19d3f3\",\"#FF6692\",\"#B6E880\",\"#FF97FF\",\"#FECB52\"],\"font\":{\"color\":\"#2a3f5f\"},\"geo\":{\"bgcolor\":\"white\",\"lakecolor\":\"white\",\"landcolor\":\"#E5ECF6\",\"showlakes\":true,\"showland\":true,\"subunitcolor\":\"white\"},\"hoverlabel\":{\"align\":\"left\"},\"hovermode\":\"closest\",\"mapbox\":{\"style\":\"light\"},\"paper_bgcolor\":\"white\",\"plot_bgcolor\":\"#E5ECF6\",\"polar\":{\"angularaxis\":{\"gridcolor\":\"white\",\"linecolor\":\"white\",\"ticks\":\"\"},\"bgcolor\":\"#E5ECF6\",\"radialaxis\":{\"gridcolor\":\"white\",\"linecolor\":\"white\",\"ticks\":\"\"}},\"scene\":{\"xaxis\":{\"backgroundcolor\":\"#E5ECF6\",\"gridcolor\":\"white\",\"gridwidth\":2,\"linecolor\":\"white\",\"showbackground\":true,\"ticks\":\"\",\"zerolinecolor\":\"white\"},\"yaxis\":{\"backgroundcolor\":\"#E5ECF6\",\"gridcolor\":\"white\",\"gridwidth\":2,\"linecolor\":\"white\",\"showbackground\":true,\"ticks\":\"\",\"zerolinecolor\":\"white\"},\"zaxis\":{\"backgroundcolor\":\"#E5ECF6\",\"gridcolor\":\"white\",\"gridwidth\":2,\"linecolor\":\"white\",\"showbackground\":true,\"ticks\":\"\",\"zerolinecolor\":\"white\"}},\"shapedefaults\":{\"line\":{\"color\":\"#2a3f5f\"}},\"ternary\":{\"aaxis\":{\"gridcolor\":\"white\",\"linecolor\":\"white\",\"ticks\":\"\"},\"baxis\":{\"gridcolor\":\"white\",\"linecolor\":\"white\",\"ticks\":\"\"},\"bgcolor\":\"#E5ECF6\",\"caxis\":{\"gridcolor\":\"white\",\"linecolor\":\"white\",\"ticks\":\"\"}},\"title\":{\"x\":0.05},\"xaxis\":{\"automargin\":true,\"gridcolor\":\"white\",\"linecolor\":\"white\",\"ticks\":\"\",\"title\":{\"standoff\":15},\"zerolinecolor\":\"white\",\"zerolinewidth\":2},\"yaxis\":{\"automargin\":true,\"gridcolor\":\"white\",\"linecolor\":\"white\",\"ticks\":\"\",\"title\":{\"standoff\":15},\"zerolinecolor\":\"white\",\"zerolinewidth\":2}}},\"xaxis\":{\"anchor\":\"y\",\"domain\":[0.0,0.45]},\"yaxis\":{\"anchor\":\"x\",\"domain\":[0.0,1.0]},\"xaxis2\":{\"anchor\":\"y2\",\"domain\":[0.55,1.0]},\"yaxis2\":{\"anchor\":\"x2\",\"domain\":[0.0,1.0]}},                        {\"responsive\": true}                    ).then(function(){\n",
              "                            \n",
              "var gd = document.getElementById('1003408f-1067-4fd0-904d-0fa1a1f0f8e9');\n",
              "var x = new MutationObserver(function (mutations, observer) {{\n",
              "        var display = window.getComputedStyle(gd).display;\n",
              "        if (!display || display === 'none') {{\n",
              "            console.log([gd, 'removed!']);\n",
              "            Plotly.purge(gd);\n",
              "            observer.disconnect();\n",
              "        }}\n",
              "}});\n",
              "\n",
              "// Listen for the removal of the full notebook cells\n",
              "var notebookContainer = gd.closest('#notebook-container');\n",
              "if (notebookContainer) {{\n",
              "    x.observe(notebookContainer, {childList: true});\n",
              "}}\n",
              "\n",
              "// Listen for the clearing of the current output cell\n",
              "var outputEl = gd.closest('.output');\n",
              "if (outputEl) {{\n",
              "    x.observe(outputEl, {childList: true});\n",
              "}}\n",
              "\n",
              "                        })                };                            </script>        </div>\n",
              "</body>\n",
              "</html>"
            ]
          },
          "metadata": {}
        }
      ]
    },
    {
      "cell_type": "code",
      "source": [
        "#@title Plot predictions\n",
        "x, y = test_x, test_y\n",
        "# x, y = train_x, train_y\n",
        "x, y = val_x, val_y\n",
        "\n",
        "preds = test(model, device, x, y, criterion, predict=True)\n",
        "transform_y = ss.inverse_transform(y).flatten()\n",
        "transform_preds = ss.inverse_transform(preds.reshape(y.shape)).flatten()\n",
        "\n",
        "rmse_sc = ((transform_y - transform_preds) ** 2).mean() ** 0.5\n",
        "r, p = pearsonr(transform_y, transform_preds)\n",
        "print(round(rmse_sc, 3), round(r ** 2, 3))\n",
        "\n",
        "sns.scatterplot(transform_y, transform_preds)\n",
        "# Train: 0.175 0.886"
      ],
      "metadata": {
        "id": "55W-A3FAW43T",
        "cellView": "form"
      },
      "execution_count": null,
      "outputs": []
    },
    {
      "cell_type": "code",
      "source": [
        "# 2016 0.61 0.142 \n",
        "# 2017 0.531 0.119\n",
        "# 2018 0.539 0.008\n",
        "# 2019 0.654 0.032\n"
      ],
      "metadata": {
        "id": "SR3dT80MW41k"
      },
      "execution_count": null,
      "outputs": []
    },
    {
      "cell_type": "code",
      "source": [],
      "metadata": {
        "id": "0m98g8cRW4z7"
      },
      "execution_count": null,
      "outputs": []
    },
    {
      "cell_type": "code",
      "source": [],
      "metadata": {
        "id": "p5j_NWLRW4wH"
      },
      "execution_count": null,
      "outputs": []
    },
    {
      "cell_type": "code",
      "source": [],
      "metadata": {
        "id": "f61eLMQvW4tn"
      },
      "execution_count": null,
      "outputs": []
    },
    {
      "cell_type": "code",
      "source": [],
      "metadata": {
        "id": "03lsXAdyW4q0"
      },
      "execution_count": null,
      "outputs": []
    }
  ]
}